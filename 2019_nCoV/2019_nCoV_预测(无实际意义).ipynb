{
 "cells": [
  {
   "cell_type": "code",
   "execution_count": 44,
   "metadata": {},
   "outputs": [],
   "source": [
    "import numpy as np\n",
    "import pandas as pd\n",
    "import matplotlib.pyplot as plt \n",
    "from scipy.optimize import curve_fit"
   ]
  },
  {
   "cell_type": "code",
   "execution_count": 45,
   "metadata": {},
   "outputs": [
    {
     "data": {
      "text/html": [
       "<div>\n",
       "<style scoped>\n",
       "    .dataframe tbody tr th:only-of-type {\n",
       "        vertical-align: middle;\n",
       "    }\n",
       "\n",
       "    .dataframe tbody tr th {\n",
       "        vertical-align: top;\n",
       "    }\n",
       "\n",
       "    .dataframe thead th {\n",
       "        text-align: right;\n",
       "    }\n",
       "</style>\n",
       "<table border=\"1\" class=\"dataframe\">\n",
       "  <thead>\n",
       "    <tr style=\"text-align: right;\">\n",
       "      <th></th>\n",
       "      <th>confirm</th>\n",
       "      <th>date</th>\n",
       "      <th>dead</th>\n",
       "      <th>heal</th>\n",
       "      <th>suspect</th>\n",
       "    </tr>\n",
       "  </thead>\n",
       "  <tbody>\n",
       "    <tr>\n",
       "      <th>0</th>\n",
       "      <td>41</td>\n",
       "      <td>1.13</td>\n",
       "      <td>1</td>\n",
       "      <td>0</td>\n",
       "      <td>0</td>\n",
       "    </tr>\n",
       "    <tr>\n",
       "      <th>1</th>\n",
       "      <td>41</td>\n",
       "      <td>1.14</td>\n",
       "      <td>1</td>\n",
       "      <td>0</td>\n",
       "      <td>0</td>\n",
       "    </tr>\n",
       "    <tr>\n",
       "      <th>2</th>\n",
       "      <td>41</td>\n",
       "      <td>1.15</td>\n",
       "      <td>2</td>\n",
       "      <td>5</td>\n",
       "      <td>0</td>\n",
       "    </tr>\n",
       "    <tr>\n",
       "      <th>3</th>\n",
       "      <td>45</td>\n",
       "      <td>1.16</td>\n",
       "      <td>2</td>\n",
       "      <td>8</td>\n",
       "      <td>0</td>\n",
       "    </tr>\n",
       "    <tr>\n",
       "      <th>4</th>\n",
       "      <td>62</td>\n",
       "      <td>1.17</td>\n",
       "      <td>2</td>\n",
       "      <td>12</td>\n",
       "      <td>0</td>\n",
       "    </tr>\n",
       "  </tbody>\n",
       "</table>\n",
       "</div>"
      ],
      "text/plain": [
       "   confirm  date  dead  heal  suspect\n",
       "0       41  1.13     1     0        0\n",
       "1       41  1.14     1     0        0\n",
       "2       41  1.15     2     5        0\n",
       "3       45  1.16     2     8        0\n",
       "4       62  1.17     2    12        0"
      ]
     },
     "execution_count": 45,
     "metadata": {},
     "output_type": "execute_result"
    }
   ],
   "source": [
    "df = pd.read_excel(\"daily_data.xlsx\")\n",
    "df.head()"
   ]
  },
  {
   "cell_type": "code",
   "execution_count": 28,
   "metadata": {},
   "outputs": [],
   "source": [
    "t = list(range(13,13 + len(df),1))\n",
    "t = np.array(t).astype(int)\n",
    "y = np.array(list(df[\"confirm\"])).astype(int)"
   ]
  },
  {
   "cell_type": "code",
   "execution_count": 55,
   "metadata": {},
   "outputs": [
    {
     "name": "stdout",
     "output_type": "stream",
     "text": [
      "时间t :\n",
      " [13 14 15 16 17 18 19 20 21 22 23 24 25 26 27 28 29]\n",
      "确诊人数 :\n",
      " [  41   41   41   45   62  198  275  291  440  571  830 1287 1975 2744\n",
      " 4515 5974 7711]\n",
      "a,b,c,d = :\n",
      " [ 5.26169591e+00 -2.76422472e+02  4.80349024e+03 -2.74304487e+04]\n",
      "多项式曲线拟合函数 :\n",
      "        3         2\n",
      "5.262 x - 276.4 x + 4803 x - 2.743e+04\n"
     ]
    },
    {
     "data": {
      "image/png": "[encoded data removed]",
      "text/plain": [
       "<Figure size 432x288 with 1 Axes>"
      ]
     },
     "metadata": {
      "needs_background": "light"
     },
     "output_type": "display_data"
    }
   ],
   "source": [
    "print(\"时间t :\\n\",t)\n",
    "print(\"确诊人数 :\\n\",y)\n",
    "f1 = np.polyfit(t,y,3)\n",
    "print(\"a,b,c,d = :\\n\",f1)\n",
    "# 返回拟合函数\n",
    "p1 = np.poly1d(f1)\n",
    "print(\"多项式曲线拟合函数 :\\n\",p1)\n",
    "yvals = np.polyval(f1,t)\n",
    "plot1 = plt.plot(t,y,\"ob\")\n",
    "plot2 = plt.plot(t,yvals,\"r\")\n",
    "plt.xlabel(\"t (t0=13)\")\n",
    "plt.ylabel(\"P_confirm\")\n",
    "plt.show()"
   ]
  },
  {
   "cell_type": "code",
   "execution_count": 70,
   "metadata": {},
   "outputs": [],
   "source": [
    "#定义函数\n",
    "def L(t,p0,r1):   \n",
    "    return p0*np.exp(r1*t)"
   ]
  },
  {
   "cell_type": "code",
   "execution_count": 71,
   "metadata": {},
   "outputs": [],
   "source": [
    "popt,pcov = curve_fit(L,t,y)"
   ]
  },
  {
   "cell_type": "code",
   "execution_count": 73,
   "metadata": {},
   "outputs": [
    {
     "name": "stdout",
     "output_type": "stream",
     "text": [
      "按照J型增长,自然增长率 r1 = 0.34243812944795793 (天)推算,从发病之日起(12月31日):\n",
      "30天后，预计感染11286\n",
      "35天后，预计感染62538\n",
      "40天后，预计感染346529\n",
      "45天后，预计感染1920151\n",
      "50天后，预计感染10639727\n",
      "55天后，预计感染58955655\n",
      "60天后，预计感染326678400\n",
      "65天后，预计感染1810153360\n",
      "70天后，预计感染10030216814\n",
      "75天后，预计感染55578301571\n"
     ]
    },
    {
     "data": {
      "image/png": "[encoded data removed]",
      "text/plain": [
       "<Figure size 432x288 with 1 Axes>"
      ]
     },
     "metadata": {
      "needs_background": "light"
     },
     "output_type": "display_data"
    }
   ],
   "source": [
    "P0 = popt[0]\n",
    "r1 = popt[1]\n",
    "yvals = L(t,P0,r1)\n",
    "print(\"按照J型增长,自然增长率 r1 = \" + str(r1) + \" (天)推算,从发病之日起(12月31日):\")\n",
    "plot1 = plt.plot(t,y,\"p\")\n",
    "plot2 = plt.plot(t,yvals,\"m\")\n",
    "for i in range(30,80,5):\n",
    "    if int(L(i,P0,r1)) <100000000000:\n",
    "        print(str(i) + \"天后，预计感染\" + str(int(L(i,P0,r1))))"
   ]
  },
  {
   "cell_type": "code",
   "execution_count": 74,
   "metadata": {},
   "outputs": [],
   "source": [
    "def S(t,K,p0,r2):\n",
    "    t0 = 13   #定义13号为初始时间\n",
    "    exp_value=np.exp(r2*(t-t0))\n",
    "    return (K*exp_value*p0)/(K+(exp_value-1)*p0)"
   ]
  },
  {
   "cell_type": "code",
   "execution_count": 84,
   "metadata": {},
   "outputs": [
    {
     "name": "stdout",
     "output_type": "stream",
     "text": [
      "按照目前的控制水平，阻滞增长模型S型增长率为0.47179446312327517,最大患病数为15870\n"
     ]
    },
    {
     "data": {
      "image/png": "[encoded data removed]",
      "text/plain": [
       "<Figure size 432x288 with 1 Axes>"
      ]
     },
     "metadata": {
      "needs_background": "light"
     },
     "output_type": "display_data"
    }
   ],
   "source": [
    "popt,pcov = curve_fit(S,t,y)\n",
    "K = popt[0]\n",
    "p0 = popt[1]\n",
    "r2 = popt[2]\n",
    "print(\"按照目前的控制水平，阻滞增长模型S型增长率为\" + str(r2) + \",最大患病数为\" +str(int(K)))\n",
    "yvals_1 = S(t,K,p0,r2)\n",
    "plot1 = plt.plot(t,y,\"ob\")\n",
    "plot1 = plt.plot(t,yvals_1,\"r\")"
   ]
  },
  {
   "cell_type": "code",
   "execution_count": 87,
   "metadata": {},
   "outputs": [
    {
     "name": "stdout",
     "output_type": "stream",
     "text": [
      "按照29号之前的控制方案，未来10天感染人数:\n"
     ]
    },
    {
     "data": {
      "text/html": [
       "<div>\n",
       "<style scoped>\n",
       "    .dataframe tbody tr th:only-of-type {\n",
       "        vertical-align: middle;\n",
       "    }\n",
       "\n",
       "    .dataframe tbody tr th {\n",
       "        vertical-align: top;\n",
       "    }\n",
       "\n",
       "    .dataframe thead th {\n",
       "        text-align: right;\n",
       "    }\n",
       "</style>\n",
       "<table border=\"1\" class=\"dataframe\">\n",
       "  <thead>\n",
       "    <tr style=\"text-align: right;\">\n",
       "      <th></th>\n",
       "      <th>0</th>\n",
       "      <th>1</th>\n",
       "    </tr>\n",
       "  </thead>\n",
       "  <tbody>\n",
       "    <tr>\n",
       "      <th>0</th>\n",
       "      <td>1-31</td>\n",
       "      <td>9606</td>\n",
       "    </tr>\n",
       "    <tr>\n",
       "      <th>1</th>\n",
       "      <td>2-1</td>\n",
       "      <td>11281</td>\n",
       "    </tr>\n",
       "    <tr>\n",
       "      <th>2</th>\n",
       "      <td>2-2</td>\n",
       "      <td>12657</td>\n",
       "    </tr>\n",
       "    <tr>\n",
       "      <th>3</th>\n",
       "      <td>2-3</td>\n",
       "      <td>13700</td>\n",
       "    </tr>\n",
       "    <tr>\n",
       "      <th>4</th>\n",
       "      <td>2-4</td>\n",
       "      <td>14443</td>\n",
       "    </tr>\n",
       "    <tr>\n",
       "      <th>5</th>\n",
       "      <td>2-5</td>\n",
       "      <td>14949</td>\n",
       "    </tr>\n",
       "    <tr>\n",
       "      <th>6</th>\n",
       "      <td>2-6</td>\n",
       "      <td>15282</td>\n",
       "    </tr>\n",
       "    <tr>\n",
       "      <th>7</th>\n",
       "      <td>2-7</td>\n",
       "      <td>15498</td>\n",
       "    </tr>\n",
       "    <tr>\n",
       "      <th>8</th>\n",
       "      <td>2-8</td>\n",
       "      <td>15636</td>\n",
       "    </tr>\n",
       "    <tr>\n",
       "      <th>9</th>\n",
       "      <td>2-9</td>\n",
       "      <td>15723</td>\n",
       "    </tr>\n",
       "  </tbody>\n",
       "</table>\n",
       "</div>"
      ],
      "text/plain": [
       "      0      1\n",
       "0  1-31   9606\n",
       "1   2-1  11281\n",
       "2   2-2  12657\n",
       "3   2-3  13700\n",
       "4   2-4  14443\n",
       "5   2-5  14949\n",
       "6   2-6  15282\n",
       "7   2-7  15498\n",
       "8   2-8  15636\n",
       "9   2-9  15723"
      ]
     },
     "execution_count": 87,
     "metadata": {},
     "output_type": "execute_result"
    }
   ],
   "source": [
    "print(\"按照29号之前的控制方案，未来10天感染人数:\")\n",
    "data = []\n",
    "for i in range(30,40):\n",
    "    if i < 31:\n",
    "        data.append([\"1-\" + str(i + 1),int(S(i,K,p0,r2))])\n",
    "    else:\n",
    "        data.append([\"2-\" + str(i-int(30)),int(S(i,K,p0,r2))])\n",
    "pre_data = pd.DataFrame(data)\n",
    "pre_data\n",
    "    "
   ]
  },
  {
   "cell_type": "code",
   "execution_count": 121,
   "metadata": {
    "scrolled": true
   },
   "outputs": [
    {
     "data": {
      "text/plain": [
       "Text(0.5, 1.0, 'Model_S prediction')"
      ]
     },
     "execution_count": 121,
     "metadata": {},
     "output_type": "execute_result"
    },
    {
     "data": {
      "image/png": "[encoded data removed]",
      "text/plain": [
       "<Figure size 864x576 with 4 Axes>"
      ]
     },
     "metadata": {
      "needs_background": "light"
     },
     "output_type": "display_data"
    }
   ],
   "source": [
    "t1 = np.array(range(13,60,1))\n",
    "model_F = np.polyval(f1,t1)\n",
    "model_L = L(t1,P0,r1)\n",
    "model_S = S(t1,K,p0,r2)\n",
    "plt.figure(figsize=(12, 8))\n",
    "plt.subplot(2,  2,  1) \n",
    "plot1 = plt.plot(t,y,\"b\")\n",
    "plt.title('Actual diagnosis')\n",
    "plt.subplot(2,  2,  2) \n",
    "plot2 = plt.plot(t1,model_F,\"m\")\n",
    "plt.title('Polynomial prediction')\n",
    "plt.subplot(2,  2,  3) \n",
    "plot3 = plt.plot(t1,model_L,\"k\")\n",
    "plt.title('Model_L prediction')\n",
    "plt.subplot(2,  2,  4) \n",
    "plot4 = plt.plot(t1,model_S,\"r\")\n",
    "plt.title('Model_S prediction')"
   ]
  },
  {
   "cell_type": "code",
   "execution_count": null,
   "metadata": {},
   "outputs": [],
   "source": []
  },
  {
   "cell_type": "code",
   "execution_count": null,
   "metadata": {},
   "outputs": [],
   "source": []
  }
 ],
 "metadata": {
  "file_extension": ".py",
  "kernelspec": {
   "display_name": "Python 3.7.3 64-bit ('base': conda)",
   "language": "python",
   "name": "python37364bitbasecondaffbdbad53ce7472eaa2116f3aae62d0f"
  },
  "language_info": {
   "codemirror_mode": {
    "name": "ipython",
    "version": 3
   },
   "file_extension": ".py",
   "mimetype": "text/x-python",
   "name": "python",
   "nbconvert_exporter": "python",
   "pygments_lexer": "ipython3",
   "version": "3.7.3"
  },
  "mimetype": "text/x-python",
  "name": "python",
  "npconvert_exporter": "python",
  "pygments_lexer": "ipython3",
  "version": 3.0
 },
 "nbformat": 4,
 "nbformat_minor": 2
}
